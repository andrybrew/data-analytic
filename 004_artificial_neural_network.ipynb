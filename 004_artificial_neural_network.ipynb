{
  "nbformat": 4,
  "nbformat_minor": 0,
  "metadata": {
    "colab": {
      "name": "004_artificial_neural_network.ipynb",
      "provenance": [],
      "collapsed_sections": [
        "NSHkZsLxo6pr",
        "lOmUBCe0P4kE",
        "_kSiB_GopNEM"
      ],
      "toc_visible": true,
      "include_colab_link": true
    },
    "kernelspec": {
      "name": "python3",
      "display_name": "Python 3"
    }
  },
  "cells": [
    {
      "cell_type": "markdown",
      "metadata": {
        "id": "view-in-github",
        "colab_type": "text"
      },
      "source": [
        "<a href=\"https://colab.research.google.com/github/andrybrew/data-analytic/blob/master/004_artificial_neural_network.ipynb\" target=\"_parent\"><img src=\"https://colab.research.google.com/assets/colab-badge.svg\" alt=\"Open In Colab\"/></a>"
      ]
    },
    {
      "cell_type": "markdown",
      "metadata": {
        "id": "J5JsOY7DWVS7",
        "colab_type": "text"
      },
      "source": [
        "# Artificial Neural Network"
      ]
    },
    {
      "cell_type": "markdown",
      "metadata": {
        "id": "-daFkl9V7H8g",
        "colab_type": "text"
      },
      "source": [
        "Artificial neural networks (ANN) or connectionist systems are computing systems vaguely inspired by the biological neural networks that constitute animal brains. Such systems \"learn\" to perform tasks by considering examples, generally without being programmed with task-specific rules."
      ]
    },
    {
      "cell_type": "markdown",
      "metadata": {
        "id": "NSHkZsLxo6pr",
        "colab_type": "text"
      },
      "source": [
        "## 1.ANN: Classification with Keras"
      ]
    },
    {
      "cell_type": "markdown",
      "metadata": {
        "id": "DuMahuoTWYKI",
        "colab_type": "text"
      },
      "source": [
        "**Import Libraries**"
      ]
    },
    {
      "cell_type": "code",
      "metadata": {
        "id": "Rc1dFIvAVkgJ",
        "colab_type": "code",
        "colab": {}
      },
      "source": [
        "# Import Library for Data Manipulation\n",
        "import pandas as pd\n",
        "import numpy as np\n",
        "import keras"
      ],
      "execution_count": 0,
      "outputs": []
    },
    {
      "cell_type": "code",
      "metadata": {
        "id": "chFV2XFghGsQ",
        "colab_type": "code",
        "colab": {}
      },
      "source": [
        "# Import Library for Visualization\n",
        "import matplotlib. pyplot as plt\n",
        "import seaborn as sns"
      ],
      "execution_count": 0,
      "outputs": []
    },
    {
      "cell_type": "markdown",
      "metadata": {
        "id": "tji-5BawhdOP",
        "colab_type": "text"
      },
      "source": [
        "**Import Data**"
      ]
    },
    {
      "cell_type": "code",
      "metadata": {
        "id": "WGhjqZojhfKU",
        "colab_type": "code",
        "colab": {}
      },
      "source": [
        "# Import Dataset\n",
        "df_cancer = pd.read_csv('https://raw.githubusercontent.com/dianrdn/data/master/breast_cancer.csv', sep=',')\n",
        "df_cancer"
      ],
      "execution_count": 0,
      "outputs": []
    },
    {
      "cell_type": "code",
      "metadata": {
        "id": "-TIZx9mahpEs",
        "colab_type": "code",
        "colab": {}
      },
      "source": [
        "# Prints the Dataset Information\n",
        "df_cancer.info()"
      ],
      "execution_count": 0,
      "outputs": []
    },
    {
      "cell_type": "code",
      "metadata": {
        "id": "nCA765vHw8Qi",
        "colab_type": "code",
        "colab": {}
      },
      "source": [
        "# Prints Descriptive Statistics\n",
        "df_cancer.describe().transpose()"
      ],
      "execution_count": 0,
      "outputs": []
    },
    {
      "cell_type": "markdown",
      "metadata": {
        "id": "_ZUweVEqxNxX",
        "colab_type": "text"
      },
      "source": [
        "**Data Preparation**"
      ]
    },
    {
      "cell_type": "markdown",
      "metadata": {
        "id": "1GyqVyYpbIX9",
        "colab_type": "text"
      },
      "source": [
        "Set Features and Target"
      ]
    },
    {
      "cell_type": "code",
      "metadata": {
        "id": "gEN9JkjjxR4A",
        "colab_type": "code",
        "colab": {}
      },
      "source": [
        "# Seperating Features (independent Variables) and Target (Dependent Variable)\n",
        "\n",
        "feature = df_cancer.drop(['id', 'diagnosis', 'Unnamed: 32'], axis=1)\n",
        "target = df_cancer['diagnosis']"
      ],
      "execution_count": 0,
      "outputs": []
    },
    {
      "cell_type": "markdown",
      "metadata": {
        "id": "o36Kol5UbMIs",
        "colab_type": "text"
      },
      "source": [
        "Encode Categorical Data"
      ]
    },
    {
      "cell_type": "code",
      "metadata": {
        "id": "vHS7aAeXx7hP",
        "colab_type": "code",
        "colab": {}
      },
      "source": [
        "# Import Module\n",
        "from sklearn.preprocessing import LabelEncoder\n",
        "\n",
        "# Encoder\n",
        "labelencoder = LabelEncoder()\n",
        "\n",
        "# Encode Categorical Data\n",
        "target = labelencoder.fit_transform(target)\n",
        "target"
      ],
      "execution_count": 0,
      "outputs": []
    },
    {
      "cell_type": "markdown",
      "metadata": {
        "id": "l8ip-Q-zbNCH",
        "colab_type": "text"
      },
      "source": [
        "Set Training and Testing Data"
      ]
    },
    {
      "cell_type": "code",
      "metadata": {
        "id": "7QfH38dnbRsI",
        "colab_type": "code",
        "colab": {}
      },
      "source": [
        "# Set Training and Testing Data (80:20)\n",
        "from sklearn.model_selection import train_test_split, cross_val_score\n",
        "feature_train, feature_test, target_train, target_test = train_test_split(feature , target, shuffle = True, test_size=0.2, random_state=42)\n",
        "\n",
        "# Show the Training and Testing Data\n",
        "print(feature_train.shape)\n",
        "print(feature_test.shape)\n",
        "print(target_train.shape)\n",
        "print(target_test.shape)"
      ],
      "execution_count": 0,
      "outputs": []
    },
    {
      "cell_type": "markdown",
      "metadata": {
        "id": "TvFAHW0Lcu-x",
        "colab_type": "text"
      },
      "source": [
        "**Modeling ANN**"
      ]
    },
    {
      "cell_type": "markdown",
      "metadata": {
        "id": "coGwxT5tO_cW",
        "colab_type": "text"
      },
      "source": [
        "How did we decide that the number of units in the layer? People will tell you it is an art and it comes with experience and expertise. A simple way for a beginner is to add the total number of columns in X and y and divide by 2. (30+1)/2 = 15.5 ~ 16. hence , units = 16."
      ]
    },
    {
      "cell_type": "code",
      "metadata": {
        "id": "VlOGuMxmbx58",
        "colab_type": "code",
        "colab": {}
      },
      "source": [
        "# Import Modules\n",
        "from keras.models import Sequential\n",
        "from keras.layers import Dense\n",
        "\n",
        "# Initialising the ANN\n",
        "classifier = Sequential()\n",
        "\n",
        "# Adding the input layer and the first hidden layer\n",
        "classifier.add(Dense(units = 16, kernel_initializer = 'uniform', activation = 'relu', input_dim = 30))\n",
        "\n",
        "# Adding the second hidden layer\n",
        "classifier.add(Dense(units = 16, kernel_initializer = 'uniform', activation = 'relu'))\n",
        "\n",
        "# Adding the output layer\n",
        "classifier.add(Dense(units = 1, kernel_initializer = 'uniform', activation = 'relu'))\n",
        "\n",
        "# Compiling the ANN\n",
        "classifier.compile(optimizer = 'adam', loss = 'binary_crossentropy', metrics = ['accuracy'])"
      ],
      "execution_count": 0,
      "outputs": []
    },
    {
      "cell_type": "code",
      "metadata": {
        "id": "x24Uypmkb9ze",
        "colab_type": "code",
        "colab": {}
      },
      "source": [
        "# Fitting the ANN to the Training Set\n",
        "classifier.fit(feature_train, target_train, batch_size = 10, epochs = 100)"
      ],
      "execution_count": 0,
      "outputs": []
    },
    {
      "cell_type": "code",
      "metadata": {
        "id": "fuOgy5hYcSd2",
        "colab_type": "code",
        "colab": {}
      },
      "source": [
        "# Predicting the Test Set Results\n",
        "target_predicted = classifier.predict(feature_test)\n",
        "target_predicted = (target_predicted > 0.5)"
      ],
      "execution_count": 0,
      "outputs": []
    },
    {
      "cell_type": "markdown",
      "metadata": {
        "id": "rt1vsxMwdu0f",
        "colab_type": "text"
      },
      "source": [
        "**Model Evaluation**"
      ]
    },
    {
      "cell_type": "code",
      "metadata": {
        "id": "c3r59j-ecNfa",
        "colab_type": "code",
        "colab": {}
      },
      "source": [
        "# Import Library\n",
        "import sklearn.metrics as metrics\n",
        "\n",
        "# Confsion Matrix\n",
        "cm = metrics.confusion_matrix(target_test, target_predicted)\n",
        "cm"
      ],
      "execution_count": 0,
      "outputs": []
    },
    {
      "cell_type": "code",
      "metadata": {
        "id": "D81gYUxVHffU",
        "colab_type": "code",
        "colab": {}
      },
      "source": [
        "# Accuracy, Precision, Recall\n",
        "acc= metrics.accuracy_score(target_test, target_predicted)\n",
        "prec = metrics.precision_score(target_test, target_predicted)\n",
        "rec = metrics.recall_score(target_test, target_predicted)\n",
        "f1 = metrics.f1_score(target_test, target_predicted)\n",
        "kappa = metrics.cohen_kappa_score(target_test, target_predicted)\n",
        "\n",
        "# Show Accuracy, Precision, Recall\n",
        "print('Accuracy:', acc )\n",
        "print('Precision:', prec)\n",
        "print('Recall:', rec)\n",
        "print('F1 Score:', f1)\n",
        "print('Cohens Kappa Score:', kappa)"
      ],
      "execution_count": 0,
      "outputs": []
    },
    {
      "cell_type": "markdown",
      "metadata": {
        "colab_type": "text",
        "id": "lOmUBCe0P4kE"
      },
      "source": [
        "## 2.ANN: Multi-layer Perceptron Regressor"
      ]
    },
    {
      "cell_type": "markdown",
      "metadata": {
        "id": "uxWc87yMS4o-",
        "colab_type": "text"
      },
      "source": [
        "The Boston Housing Dataset consists of price of houses in various places in Boston. Alongside with price, the dataset also provide information such as Crime (CRIM), areas of non-retail business in the town (INDUS), the age of people who own the house (AGE), and there are many other attributes. https://www.kaggle.com/c/boston-housing"
      ]
    },
    {
      "cell_type": "markdown",
      "metadata": {
        "colab_type": "text",
        "id": "a96e3zasP4kH"
      },
      "source": [
        "**Import Libraries**"
      ]
    },
    {
      "cell_type": "code",
      "metadata": {
        "colab_type": "code",
        "id": "2kpoR_ucP4kJ",
        "colab": {}
      },
      "source": [
        "# Import Library for Data Manipulation\n",
        "import pandas as pd\n",
        "import numpy as np"
      ],
      "execution_count": 0,
      "outputs": []
    },
    {
      "cell_type": "code",
      "metadata": {
        "colab_type": "code",
        "id": "t8FTjBKeP4kR",
        "colab": {}
      },
      "source": [
        "# Import Library for Visualization\n",
        "import matplotlib. pyplot as plt\n",
        "import seaborn as sns"
      ],
      "execution_count": 0,
      "outputs": []
    },
    {
      "cell_type": "markdown",
      "metadata": {
        "colab_type": "text",
        "id": "lkzAWghYP4kX"
      },
      "source": [
        "**Import Data**"
      ]
    },
    {
      "cell_type": "code",
      "metadata": {
        "colab_type": "code",
        "id": "rIgPbjHRP4kZ",
        "colab": {}
      },
      "source": [
        "# Import Dataset\n",
        "df_housing = pd.read_csv('https://raw.githubusercontent.com/dianrdn/data/master/boston_housing.csv', sep=';')\n",
        "df_housing"
      ],
      "execution_count": 0,
      "outputs": []
    },
    {
      "cell_type": "code",
      "metadata": {
        "colab_type": "code",
        "id": "ev0mcyIrP4kf",
        "colab": {}
      },
      "source": [
        "# Prints the Dataset Information\n",
        "df_housing.info()"
      ],
      "execution_count": 0,
      "outputs": []
    },
    {
      "cell_type": "code",
      "metadata": {
        "colab_type": "code",
        "id": "cNN8EuKjP4kl",
        "colab": {}
      },
      "source": [
        "# Prints Descriptive Statistics\n",
        "df_housing.describe().transpose()"
      ],
      "execution_count": 0,
      "outputs": []
    },
    {
      "cell_type": "markdown",
      "metadata": {
        "colab_type": "text",
        "id": "SP98iDC6P4kr"
      },
      "source": [
        "**Data Preparation**"
      ]
    },
    {
      "cell_type": "code",
      "metadata": {
        "id": "DsTMbFq6SkkG",
        "colab_type": "code",
        "colab": {}
      },
      "source": [
        "# Import Module\n",
        "from sklearn.preprocessing import MinMaxScaler\n",
        "\n",
        "# initialize min-max scaler\n",
        "mm_scaler = MinMaxScaler()\n",
        "column_names = df_housing.columns.tolist()\n",
        "column_names.remove('medv')\n",
        "\n",
        "# Transform all attributes\n",
        "df_housing[column_names] = mm_scaler.fit_transform(df_housing[column_names])\n",
        "df_housing.sort_index(inplace=True)\n",
        "df_housing.head()"
      ],
      "execution_count": 0,
      "outputs": []
    },
    {
      "cell_type": "markdown",
      "metadata": {
        "colab_type": "text",
        "id": "Ug6qsX4XP4kt"
      },
      "source": [
        "Set Features and Target"
      ]
    },
    {
      "cell_type": "code",
      "metadata": {
        "colab_type": "code",
        "id": "kDhY1tzdP4ku",
        "colab": {}
      },
      "source": [
        "# Seperating Features (independent Variables) and Target (Dependent Variable)\n",
        "\n",
        "feature = df_housing.drop(['medv'], axis=1)\n",
        "target = df_housing['medv']"
      ],
      "execution_count": 0,
      "outputs": []
    },
    {
      "cell_type": "markdown",
      "metadata": {
        "colab_type": "text",
        "id": "Ycnx9SKlP4k6"
      },
      "source": [
        "Set Training and Testing Data"
      ]
    },
    {
      "cell_type": "code",
      "metadata": {
        "colab_type": "code",
        "id": "V7uMepzWP4k7",
        "colab": {}
      },
      "source": [
        "# Set Training and Testing Data (80:20)\n",
        "from sklearn.model_selection import train_test_split, cross_val_score\n",
        "feature_train, feature_test, target_train, target_test = train_test_split(feature , target, shuffle = True, test_size=0.2, random_state=42)\n",
        "\n",
        "# Show the Training and Testing Data\n",
        "print(feature_train.shape)\n",
        "print(feature_test.shape)\n",
        "print(target_train.shape)\n",
        "print(target_test.shape)"
      ],
      "execution_count": 0,
      "outputs": []
    },
    {
      "cell_type": "markdown",
      "metadata": {
        "colab_type": "text",
        "id": "HkMEIlOAP4k_"
      },
      "source": [
        "**Modeling ANN**"
      ]
    },
    {
      "cell_type": "code",
      "metadata": {
        "id": "NwKyPSqTThwM",
        "colab_type": "code",
        "colab": {}
      },
      "source": [
        "# Import Module\n",
        "from sklearn.neural_network import MLPRegressor\n",
        "\n",
        "# Initialising the ANN\n",
        "mlp = MLPRegressor(hidden_layer_sizes=(70), activation='relu', solver='adam', alpha=0.0001, batch_size='auto', learning_rate='constant', max_iter=50000, verbose = True)"
      ],
      "execution_count": 0,
      "outputs": []
    },
    {
      "cell_type": "code",
      "metadata": {
        "id": "dv99BwKiTV6a",
        "colab_type": "code",
        "colab": {}
      },
      "source": [
        "# Fitting the ANN to the Training Set\n",
        "mlp.fit(feature_train, target_train)"
      ],
      "execution_count": 0,
      "outputs": []
    },
    {
      "cell_type": "markdown",
      "metadata": {
        "id": "MyD4Uvq7YeWw",
        "colab_type": "text"
      },
      "source": [
        "**Predict Data**"
      ]
    },
    {
      "cell_type": "code",
      "metadata": {
        "id": "qpoQosYBYKIk",
        "colab_type": "code",
        "colab": {}
      },
      "source": [
        "# Predicted Data\n",
        "target_predicted = mlp.predict(feature_test)\n",
        "target_predicted = pd.DataFrame(target_predicted)\n",
        "\n",
        "# Actual Data\n",
        "target_test = pd.DataFrame(target_test)\n",
        "target_test.reset_index(drop=True, inplace=True)\n",
        "\n",
        "# Predicted vs Actual Data\n",
        "predvsactual = pd.concat([target_predicted, target_test], ignore_index=True, axis=1)\n",
        "predvsactual.columns = ['predicted', 'actual']\n",
        "predvsactual"
      ],
      "execution_count": 0,
      "outputs": []
    },
    {
      "cell_type": "code",
      "metadata": {
        "colab_type": "code",
        "id": "rve3dTxLa-VW",
        "colab": {}
      },
      "source": [
        "# Set Graph Size\n",
        "plt.rcParams['figure.figsize'] = (16, 8)\n",
        "\n",
        "# Visualize Actual vs Predicted House Price Index\n",
        "plt.plot(target_test, color='blue', label='actual')\n",
        "plt.plot(target_predicted, color='red', label='prediction')\n",
        "plt.xlabel(' ')\n",
        "plt.ylabel(' ')\n",
        "plt.title('Median Value of Owner-Occupied Homes in $1000s')\n",
        "plt.legend()\n",
        "plt.show()"
      ],
      "execution_count": 0,
      "outputs": []
    },
    {
      "cell_type": "markdown",
      "metadata": {
        "id": "hnrOYRT6UW1Z",
        "colab_type": "text"
      },
      "source": [
        "**Model Evaluation**"
      ]
    },
    {
      "cell_type": "code",
      "metadata": {
        "id": "aBSPa80kTrMP",
        "colab_type": "code",
        "colab": {}
      },
      "source": [
        "# Import Module\n",
        "from sklearn.metrics import mean_squared_error\n",
        "\n",
        "# Calculate MSE\n",
        "train_mse = mean_squared_error(target_train, mlp.predict(feature_train))\n",
        "test_mse = mean_squared_error(target_test, mlp.predict(feature_test))\n",
        "\n",
        "# Show MSE\n",
        "print(\"Train MSE:\", np.round(train_mse,2))\n",
        "print(\"Test MSE:\", np.round(test_mse,2))"
      ],
      "execution_count": 0,
      "outputs": []
    }
  ]
}