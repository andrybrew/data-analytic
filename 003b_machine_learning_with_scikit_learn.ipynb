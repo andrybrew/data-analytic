{
  "nbformat": 4,
  "nbformat_minor": 0,
  "metadata": {
    "colab": {
      "name": "003b_machine_learning_with_scikit_learn.ipynb",
      "provenance": [],
      "collapsed_sections": [],
      "toc_visible": true,
      "include_colab_link": true
    },
    "kernelspec": {
      "name": "python3",
      "display_name": "Python 3"
    }
  },
  "cells": [
    {
      "cell_type": "markdown",
      "metadata": {
        "id": "view-in-github",
        "colab_type": "text"
      },
      "source": [
        "<a href=\"https://colab.research.google.com/github/andrybrew/data-analytic/blob/master/003b_machine_learning_with_scikit_learn.ipynb\" target=\"_parent\"><img src=\"https://colab.research.google.com/assets/colab-badge.svg\" alt=\"Open In Colab\"/></a>"
      ]
    },
    {
      "cell_type": "markdown",
      "metadata": {
        "id": "J5JsOY7DWVS7",
        "colab_type": "text"
      },
      "source": [
        "# Machine Learning with Scikit-Learn"
      ]
    },
    {
      "cell_type": "markdown",
      "metadata": {
        "id": "eGRZ7KBydODb",
        "colab_type": "text"
      },
      "source": [
        "Machine learning (ML) is the scientific study of algorithms and statistical models that computer systems use to perform a specific task without using explicit instructions, relying on patterns and inference instead. It is seen as a subset of artificial intelligence. Machine learning algorithms build a mathematical model based on sample data, known as \"training data\", in order to make predictions or decisions without being explicitly programmed to perform the task. Machine learning algorithms are used in a wide variety of applications, such as email filtering and computer vision, where it is difficult or infeasible to develop a conventional algorithm for effectively performing the task.\n"
      ]
    },
    {
      "cell_type": "markdown",
      "metadata": {
        "id": "-daFkl9V7H8g",
        "colab_type": "text"
      },
      "source": [
        "Scikit-learn is a free machine learning library for Python. It features various algorithms like support vector machine, random forests, and k-neighbours, and it also supports Python numerical and scientific libraries."
      ]
    },
    {
      "cell_type": "markdown",
      "metadata": {
        "id": "DuMahuoTWYKI",
        "colab_type": "text"
      },
      "source": [
        "**Import Libraries**"
      ]
    },
    {
      "cell_type": "code",
      "metadata": {
        "id": "Rc1dFIvAVkgJ",
        "colab_type": "code",
        "colab": {}
      },
      "source": [
        "# Import Library for Data Manipulation\n",
        "import pandas as pd\n",
        "import numpy as np"
      ],
      "execution_count": 0,
      "outputs": []
    },
    {
      "cell_type": "code",
      "metadata": {
        "id": "chFV2XFghGsQ",
        "colab_type": "code",
        "colab": {}
      },
      "source": [
        "# Import Library for Visualization\n",
        "import matplotlib.pyplot as plt\n",
        "import seaborn as sns"
      ],
      "execution_count": 0,
      "outputs": []
    },
    {
      "cell_type": "markdown",
      "metadata": {
        "id": "ybRCtj0Udx90",
        "colab_type": "text"
      },
      "source": [
        "## **Supervised Learning**"
      ]
    },
    {
      "cell_type": "markdown",
      "metadata": {
        "id": "sqyFFdRhfK4M",
        "colab_type": "text"
      },
      "source": [
        "Supervised learning is the machine learning task of learning a function that maps an input to an output based on example input-output pairs. It infers a function from labeled training data consisting of a set of training examples. A supervised learning algorithm analyzes the training data and produces an inferred function, which can be used for mapping new examples. An optimal scenario will allow for the algorithm to correctly determine the class labels for unseen instances. This requires the learning algorithm to generalize from the training data to unseen situations in a \"reasonable\" way."
      ]
    },
    {
      "cell_type": "markdown",
      "metadata": {
        "id": "IBVWQUCr3SkU",
        "colab_type": "text"
      },
      "source": [
        "### **1. Regression Model: Life Expectacy**"
      ]
    },
    {
      "cell_type": "markdown",
      "metadata": {
        "id": "WhMF_SSPe8nn",
        "colab_type": "text"
      },
      "source": [
        "Regression analysis is a set of statistical processes for estimating the relationships between a dependent variable (often called the 'outcome variable') and one or more independent variables (often called 'predictors', 'covariates', or 'features')."
      ]
    },
    {
      "cell_type": "markdown",
      "metadata": {
        "id": "VhfHAEQbevjb",
        "colab_type": "text"
      },
      "source": [
        "Linear regression is a linear approach to modeling the relationship between a scalar response (or dependent variable) and one or more explanatory variables (or independent variables). The case of one explanatory variable is called simple linear regression. For more than one explanatory variable, the process is called multiple linear regression."
      ]
    },
    {
      "cell_type": "markdown",
      "metadata": {
        "id": "tji-5BawhdOP",
        "colab_type": "text"
      },
      "source": [
        "**Import Data**"
      ]
    },
    {
      "cell_type": "code",
      "metadata": {
        "id": "WGhjqZojhfKU",
        "colab_type": "code",
        "colab": {}
      },
      "source": [
        "# Import Dataset\n",
        "df_lifeexpectacy = pd.read_csv('https://raw.githubusercontent.com/dianrdn/data/master/life_expectacy.csv', sep=';')\n",
        "df_lifeexpectacy"
      ],
      "execution_count": 0,
      "outputs": []
    },
    {
      "cell_type": "code",
      "metadata": {
        "id": "-TIZx9mahpEs",
        "colab_type": "code",
        "colab": {}
      },
      "source": [
        "# Prints the Dataset Information\n",
        "df_lifeexpectacy.info()"
      ],
      "execution_count": 0,
      "outputs": []
    },
    {
      "cell_type": "code",
      "metadata": {
        "id": "nCA765vHw8Qi",
        "colab_type": "code",
        "colab": {}
      },
      "source": [
        "# Prints Descriptive Statistics\n",
        "df_lifeexpectacy.describe().transpose()"
      ],
      "execution_count": 0,
      "outputs": []
    },
    {
      "cell_type": "markdown",
      "metadata": {
        "id": "_ZUweVEqxNxX",
        "colab_type": "text"
      },
      "source": [
        "**Modeling Linear Regression**"
      ]
    },
    {
      "cell_type": "code",
      "metadata": {
        "id": "gEN9JkjjxR4A",
        "colab_type": "code",
        "colab": {}
      },
      "source": [
        "# Importing Linear Regression Module\n",
        "from sklearn.linear_model import LinearRegression\n",
        "\n",
        "# Modeling Linear Regression\n",
        "lr = LinearRegression()\n",
        "\n",
        "# Select X and Y Variable\n",
        "X = df_lifeexpectacy.iloc[:, :-1].values\n",
        "Y = df_lifeexpectacy.iloc[:, 1].values\n",
        "\n",
        "# Apply Model to Data\n",
        "lr.fit(X, Y)\n",
        "\n",
        "# Show Coefficent and Intercept\n",
        "print('Coefficient = ', lr.coef_)\n",
        "print('Intercept =', lr.intercept_)"
      ],
      "execution_count": 0,
      "outputs": []
    },
    {
      "cell_type": "markdown",
      "metadata": {
        "id": "jlLFIn5cx5La",
        "colab_type": "text"
      },
      "source": [
        "**Visualizing Result**"
      ]
    },
    {
      "cell_type": "code",
      "metadata": {
        "id": "vHS7aAeXx7hP",
        "colab_type": "code",
        "colab": {}
      },
      "source": [
        "# Draw Scatter Plot with X and Y Axes\n",
        "plt.scatter(X, Y)\n",
        "\n",
        "# Show Regression Line with Green Color\n",
        "plt.plot(X, lr.predict(X), color = 'green')\n",
        "\n",
        "# Set Title and Axes Name\n",
        "plt.title('Life Expectacy')\n",
        "plt.xlabel('GDP')\n",
        "plt.ylabel('Life Expectacy')\n",
        "\n",
        "# Show Plot\n",
        "plt.show()"
      ],
      "execution_count": 0,
      "outputs": []
    },
    {
      "cell_type": "markdown",
      "metadata": {
        "colab_type": "text",
        "id": "5TVgydxcNRkM"
      },
      "source": [
        "### **2. Regression Model : IMDB**"
      ]
    },
    {
      "cell_type": "markdown",
      "metadata": {
        "colab_type": "text",
        "id": "YaBNjG1nNRkP"
      },
      "source": [
        "Regression analysis is a set of statistical processes for estimating the relationships between a dependent variable (often called the 'outcome variable') and one or more independent variables (often called 'predictors', 'covariates', or 'features')."
      ]
    },
    {
      "cell_type": "markdown",
      "metadata": {
        "colab_type": "text",
        "id": "lT7ITD_ENRkT"
      },
      "source": [
        "Linear regression is a linear approach to modeling the relationship between a scalar response (or dependent variable) and one or more explanatory variables (or independent variables). The case of one explanatory variable is called simple linear regression. For more than one explanatory variable, the process is called multiple linear regression."
      ]
    },
    {
      "cell_type": "markdown",
      "metadata": {
        "colab_type": "text",
        "id": "cQI48XYHNRkU"
      },
      "source": [
        "**Import Data**"
      ]
    },
    {
      "cell_type": "code",
      "metadata": {
        "colab_type": "code",
        "id": "ncYQkH5-NRkV",
        "colab": {}
      },
      "source": [
        "# Import Dataset\n",
        "df_imdb = pd.read_csv('https://raw.githubusercontent.com/dianrdn/data/master/critics.csv', sep=';')\n",
        "df_imdb"
      ],
      "execution_count": 0,
      "outputs": []
    },
    {
      "cell_type": "code",
      "metadata": {
        "colab_type": "code",
        "id": "-aOVnT63NRkd",
        "colab": {}
      },
      "source": [
        "# Prints the Dataset Information\n",
        "df_imdb.info()"
      ],
      "execution_count": 0,
      "outputs": []
    },
    {
      "cell_type": "code",
      "metadata": {
        "colab_type": "code",
        "id": "0QO7JAl6NRkj",
        "colab": {}
      },
      "source": [
        "# Prints Descriptive Statistics\n",
        "df_imdb.describe().transpose()"
      ],
      "execution_count": 0,
      "outputs": []
    },
    {
      "cell_type": "markdown",
      "metadata": {
        "colab_type": "text",
        "id": "XXi53vuXNRkp"
      },
      "source": [
        "**Modeling Linear Regression**"
      ]
    },
    {
      "cell_type": "code",
      "metadata": {
        "colab_type": "code",
        "id": "GzmR6BZQNRkq",
        "colab": {}
      },
      "source": [
        "# Importing Linear Regression Module\n",
        "from sklearn.linear_model import LinearRegression\n",
        "\n",
        "# Modeling Linear Regression\n",
        "lr = LinearRegression()\n",
        "\n",
        "# Select X and Y Variable\n",
        "X = df_imdb.iloc[:, :-1].values\n",
        "Y = df_imdb.iloc[:, 1].values\n",
        "\n",
        "# Apply Model to Data\n",
        "lr.fit(X, Y)\n",
        "\n",
        "# Show Coefficent and Intercept\n",
        "print('Coefficient = ', lr.coef_)\n",
        "print('Intercept =', lr.intercept_)"
      ],
      "execution_count": 0,
      "outputs": []
    },
    {
      "cell_type": "markdown",
      "metadata": {
        "colab_type": "text",
        "id": "TArPGAxQNRkw"
      },
      "source": [
        "**Visualizing Result**"
      ]
    },
    {
      "cell_type": "code",
      "metadata": {
        "colab_type": "code",
        "id": "8VwaWInlNRkx",
        "colab": {}
      },
      "source": [
        "# Draw Scatter Plot with X and Y Axes\n",
        "plt.scatter(X, Y)\n",
        "\n",
        "# Show Regression Line with Green Color\n",
        "plt.plot(X, lr.predict(X), color = 'green')\n",
        "\n",
        "# Set Title and Axes Name\n",
        "plt.title('Movie Rate')\n",
        "plt.xlabel('IMDB')\n",
        "plt.ylabel('Critics')\n",
        "\n",
        "# Show Plot\n",
        "plt.show()"
      ],
      "execution_count": 0,
      "outputs": []
    },
    {
      "cell_type": "markdown",
      "metadata": {
        "id": "WLdOajMO3_PL",
        "colab_type": "text"
      },
      "source": [
        "### **3. Classification Model: Car Insurance**"
      ]
    },
    {
      "cell_type": "markdown",
      "metadata": {
        "id": "mxW-hOrgmQ2r",
        "colab_type": "text"
      },
      "source": [
        " classification is the problem of identifying to which of a set of categories (sub-populations) a new observation belongs, on the basis of a training set of data containing observations (or instances) whose category membership is known. Examples are assigning a given email to the \"spam\" or \"non-spam\" class, and assigning a diagnosis to a given patient based on observed characteristics of the patient (sex, blood pressure, presence or absence of certain symptoms, etc.). Classification is an example of pattern recognition."
      ]
    },
    {
      "cell_type": "markdown",
      "metadata": {
        "id": "bpxlBH9W3BE2",
        "colab_type": "text"
      },
      "source": [
        "***Decision Tree Classifier***"
      ]
    },
    {
      "cell_type": "markdown",
      "metadata": {
        "id": "jgOX-StZnMvN",
        "colab_type": "text"
      },
      "source": [
        "A decision tree is a flowchart-like tree structure where an internal node represents feature(or attribute), the branch represents a decision rule, and each leaf node represents the outcome. The topmost node in a decision tree is known as the root node. It learns to partition on the basis of the attribute value. It partitions the tree in recursively manner call recursive partitioning. This flowchart-like structure helps you in decision making."
      ]
    },
    {
      "cell_type": "markdown",
      "metadata": {
        "colab_type": "text",
        "id": "8CmJkUsTzeYU"
      },
      "source": [
        "**Import Data**"
      ]
    },
    {
      "cell_type": "code",
      "metadata": {
        "colab_type": "code",
        "id": "qCEspOFVzeYV",
        "colab": {}
      },
      "source": [
        "# Import Dataset\n",
        "df_insurance = pd.read_csv('https://raw.githubusercontent.com/dianrdn/data/master/car_insurance.csv', sep = ';')\n",
        "df_insurance"
      ],
      "execution_count": 0,
      "outputs": []
    },
    {
      "cell_type": "code",
      "metadata": {
        "colab_type": "code",
        "id": "B6o_x1hDzeYZ",
        "colab": {}
      },
      "source": [
        "# Prints the Dataset Information\n",
        "df_insurance.info()"
      ],
      "execution_count": 0,
      "outputs": []
    },
    {
      "cell_type": "code",
      "metadata": {
        "colab_type": "code",
        "id": "A-SxL5OwzeYc",
        "colab": {}
      },
      "source": [
        "# Prints Descriptive Statistics\n",
        "df_insurance.describe().transpose()"
      ],
      "execution_count": 0,
      "outputs": []
    },
    {
      "cell_type": "markdown",
      "metadata": {
        "id": "0OympUMG0sBV",
        "colab_type": "text"
      },
      "source": [
        "**Data Preprocessing**"
      ]
    },
    {
      "cell_type": "markdown",
      "metadata": {
        "id": "MxGx6X8zwTVG",
        "colab_type": "text"
      },
      "source": [
        "Encode Categorical Data"
      ]
    },
    {
      "cell_type": "code",
      "metadata": {
        "id": "xOprAnLcwWWA",
        "colab_type": "code",
        "colab": {}
      },
      "source": [
        "# Import Module\n",
        "from sklearn.preprocessing import OneHotEncoder\n",
        "\n",
        "# Encoder\n",
        "encoder = OneHotEncoder(sparse=False)\n",
        "\n",
        "# Encode Categorical Data\n",
        "df_encoded = pd.DataFrame(encoder.fit_transform(df_insurance[['maritalsts', 'education']]))\n",
        "df_encoded.columns = encoder.get_feature_names(['maritalsts',\t'education'])\n",
        "\n",
        "# Replace Categotical Data with Encoded Data\n",
        "df_insurance.drop(['maritalsts',\t'education'] ,axis=1, inplace=True)\n",
        "df_insurance_encoded= pd.concat([df_insurance, df_encoded], axis=1)\n",
        "\n",
        "# Show Encoded Dataframe\n",
        "df_insurance_encoded"
      ],
      "execution_count": 0,
      "outputs": []
    },
    {
      "cell_type": "markdown",
      "metadata": {
        "id": "dm__QD8SxBqc",
        "colab_type": "text"
      },
      "source": [
        "Set Feature and Target"
      ]
    },
    {
      "cell_type": "code",
      "metadata": {
        "id": "UQFTig_v0klf",
        "colab_type": "code",
        "colab": {}
      },
      "source": [
        "# Select Features\n",
        "feature = df_insurance_encoded.drop(['carinsurance'], axis=1)\n",
        "feature"
      ],
      "execution_count": 0,
      "outputs": []
    },
    {
      "cell_type": "code",
      "metadata": {
        "id": "vacgNWxh0q_B",
        "colab_type": "code",
        "colab": {}
      },
      "source": [
        "# Select Target\n",
        "target = df_insurance_encoded['carinsurance']\n",
        "target"
      ],
      "execution_count": 0,
      "outputs": []
    },
    {
      "cell_type": "markdown",
      "metadata": {
        "id": "oxni4q9HxU_h",
        "colab_type": "text"
      },
      "source": [
        "Set Training and Testing Data"
      ]
    },
    {
      "cell_type": "code",
      "metadata": {
        "id": "wcS1t1Rp020y",
        "colab_type": "code",
        "colab": {}
      },
      "source": [
        "# Set Training and Testing Data (70:30)\n",
        "from sklearn.model_selection import train_test_split, cross_val_score\n",
        "feature_train, feature_test, target_train, target_test = train_test_split(feature , target, shuffle = True, test_size=0.3, random_state=1)\n",
        "\n",
        "# Show the Training and Testing Data\n",
        "print(feature_train.shape)\n",
        "print(feature_test.shape)\n",
        "print(target_train.shape)\n",
        "print(target_test.shape)"
      ],
      "execution_count": 0,
      "outputs": []
    },
    {
      "cell_type": "markdown",
      "metadata": {
        "id": "D_jYRdpBotGt",
        "colab_type": "text"
      },
      "source": [
        "**Modeling Decision Tree Classifier**"
      ]
    },
    {
      "cell_type": "code",
      "metadata": {
        "colab_type": "code",
        "id": "5olHo38B4_ZR",
        "colab": {}
      },
      "source": [
        "# Import library\n",
        "from sklearn import tree\n",
        "\n",
        "# Modeling Decision Tree\n",
        "dtree = tree.DecisionTreeClassifier(min_impurity_decrease=0.003)\n",
        "dtree.fit(feature_train, target_train)\n",
        "\n",
        "# Predict Test Data \n",
        "target_predicted_dtree = dtree.predict(feature_test)\n",
        "target_predicted_dtree"
      ],
      "execution_count": 0,
      "outputs": []
    },
    {
      "cell_type": "code",
      "metadata": {
        "id": "LtpTZzrT15gH",
        "colab_type": "code",
        "colab": {}
      },
      "source": [
        "# Visualize Tree\n",
        "\n",
        "from sklearn.externals.six import StringIO  \n",
        "from IPython.display import Image  \n",
        "from sklearn.tree import export_graphviz\n",
        "import pydotplus\n",
        "\n",
        "dot_data = StringIO()\n",
        "export_graphviz(dtree, out_file=dot_data,  \n",
        "                filled=True, rounded=True,\n",
        "                special_characters=True,\n",
        "                class_names=['no_car_insurance', 'take_car_insurance'],\n",
        "                feature_names=['age',\t'balance',\t'hhinsurance',\t'carloan',\t'maritalsts_divorced',\t'maritalsts_married',\n",
        "                               'maritalsts_single',\t'education_primary',\t'education_secondary',\t'education_tertiary'])\n",
        "graph = pydotplus.graph_from_dot_data(dot_data.getvalue())  \n",
        "Image(graph.create_png())"
      ],
      "execution_count": 0,
      "outputs": []
    },
    {
      "cell_type": "markdown",
      "metadata": {
        "id": "MhxeRbuO1w9X",
        "colab_type": "text"
      },
      "source": [
        "**Model Evaluation**"
      ]
    },
    {
      "cell_type": "code",
      "metadata": {
        "colab_type": "code",
        "id": "7m2XcUlQ4_ZV",
        "colab": {}
      },
      "source": [
        "# Import Library\n",
        "import sklearn.metrics as metrics\n",
        "\n",
        "# Confsion Matrix\n",
        "cm_dtree = metrics.confusion_matrix(target_test, target_predicted_dtree)\n",
        "cm_dtree"
      ],
      "execution_count": 0,
      "outputs": []
    },
    {
      "cell_type": "code",
      "metadata": {
        "id": "HuJaroTA33hl",
        "colab_type": "code",
        "colab": {}
      },
      "source": [
        "# Accuracy, Precision, Recall\n",
        "acc_dtree = metrics.accuracy_score(target_test, target_predicted_dtree)\n",
        "prec_dtree = metrics.precision_score(target_test, target_predicted_dtree)\n",
        "rec_dtree = metrics.recall_score(target_test, target_predicted_dtree)\n",
        "f1_dtree = metrics.f1_score(target_test, target_predicted_dtree)\n",
        "kappa_dtree = metrics.cohen_kappa_score(target_test, target_predicted_dtree)\n",
        "\n",
        "# Show Accuracy, Precision, Recall\n",
        "print('Accuracy:', acc_dtree )\n",
        "print('Precision:', prec_dtree)\n",
        "print('Recall:', rec_dtree)\n",
        "print('F1 Score:', f1_dtree)\n",
        "print('Cohens Kappa Score:', kappa_dtree)"
      ],
      "execution_count": 0,
      "outputs": []
    },
    {
      "cell_type": "code",
      "metadata": {
        "id": "JCWRRoAh26gS",
        "colab_type": "code",
        "colab": {}
      },
      "source": [
        "# Import Visualization Package\n",
        "plt.rcParams['figure.figsize'] = (10, 10)\n",
        "plt.style.use('ggplot')\n",
        "\n",
        "# Visualize ROC Curve\n",
        "target_predicted_dtree_prob = dtree.predict_proba(feature_test)[::,1]\n",
        "fp_rate_dtree, tp_rate_dtree, _ = metrics.roc_curve(target_test,  target_predicted_dtree_prob)\n",
        "auc_dtree = metrics.roc_auc_score(target_test, target_predicted_dtree_prob)\n",
        "plt.plot(fp_rate_dtree, tp_rate_dtree, label=\"Decision Tree, auc=\"+str(auc_dtree))\n",
        "plt.xlabel('false positive rate') \n",
        "plt.ylabel('true positive rate')\n",
        "plt.legend(loc=4)\n",
        "plt.show()"
      ],
      "execution_count": 0,
      "outputs": []
    },
    {
      "cell_type": "markdown",
      "metadata": {
        "colab_type": "text",
        "id": "lp3VKq7ZXA-Q"
      },
      "source": [
        "### **4. Classification Model: German Housing**"
      ]
    },
    {
      "cell_type": "markdown",
      "metadata": {
        "colab_type": "text",
        "id": "9UokfiysXA-S"
      },
      "source": [
        " classification is the problem of identifying to which of a set of categories (sub-populations) a new observation belongs, on the basis of a training set of data containing observations (or instances) whose category membership is known. Examples are assigning a given email to the \"spam\" or \"non-spam\" class, and assigning a diagnosis to a given patient based on observed characteristics of the patient (sex, blood pressure, presence or absence of certain symptoms, etc.). Classification is an example of pattern recognition."
      ]
    },
    {
      "cell_type": "markdown",
      "metadata": {
        "colab_type": "text",
        "id": "hBdoT8GCXA-S"
      },
      "source": [
        "***Decision Tree Classifier***"
      ]
    },
    {
      "cell_type": "markdown",
      "metadata": {
        "colab_type": "text",
        "id": "oAAekhCtXA-T"
      },
      "source": [
        "A decision tree is a flowchart-like tree structure where an internal node represents feature(or attribute), the branch represents a decision rule, and each leaf node represents the outcome. The topmost node in a decision tree is known as the root node. It learns to partition on the basis of the attribute value. It partitions the tree in recursively manner call recursive partitioning. This flowchart-like structure helps you in decision making."
      ]
    },
    {
      "cell_type": "markdown",
      "metadata": {
        "id": "F7yI1Kx6bqtU",
        "colab_type": "text"
      },
      "source": [
        "0 = rent the house, 1 = own the house"
      ]
    },
    {
      "cell_type": "markdown",
      "metadata": {
        "colab_type": "text",
        "id": "eKF7YY7uXA-T"
      },
      "source": [
        "**Import Data**"
      ]
    },
    {
      "cell_type": "code",
      "metadata": {
        "colab_type": "code",
        "id": "M-Pi1OPHXA-U",
        "colab": {}
      },
      "source": [
        "# Import Dataset\n",
        "df_housing = pd.read_csv('https://raw.githubusercontent.com/dianrdn/data/master/german_housing.csv', sep = ';')\n",
        "df_housing"
      ],
      "execution_count": 0,
      "outputs": []
    },
    {
      "cell_type": "code",
      "metadata": {
        "colab_type": "code",
        "id": "6oB04ymgXA-X",
        "colab": {}
      },
      "source": [
        "# Prints the Dataset Information\n",
        "df_housing.info()"
      ],
      "execution_count": 0,
      "outputs": []
    },
    {
      "cell_type": "code",
      "metadata": {
        "colab_type": "code",
        "id": "wSW3zD4gXA-Z",
        "colab": {}
      },
      "source": [
        "# Prints Descriptive Statistics\n",
        "df_housing.describe().transpose()"
      ],
      "execution_count": 0,
      "outputs": []
    },
    {
      "cell_type": "markdown",
      "metadata": {
        "colab_type": "text",
        "id": "PXgbT_McXA-c"
      },
      "source": [
        "**Data Preprocessing**"
      ]
    },
    {
      "cell_type": "markdown",
      "metadata": {
        "colab_type": "text",
        "id": "0ZByArmWXA-j"
      },
      "source": [
        "Encode Categorical Data"
      ]
    },
    {
      "cell_type": "code",
      "metadata": {
        "colab_type": "code",
        "id": "gW_5RH_tXA-j",
        "colab": {}
      },
      "source": [
        "# Import Module\n",
        "from sklearn.preprocessing import OneHotEncoder\n",
        "\n",
        "# Encoder\n",
        "encoder = OneHotEncoder(sparse=False)\n",
        "\n",
        "# Encode Categorical Data\n",
        "df_encoded = pd.DataFrame(encoder.fit_transform(df_housing[['sex', 'job', 'saving_account']]))\n",
        "df_encoded.columns = encoder.get_feature_names(['sex', 'job', 'saving_account'])\n",
        "\n",
        "# Replace Categotical Data with Encoded Data\n",
        "df_housing.drop(['sex', 'job', 'saving_account'] ,axis=1, inplace=True)\n",
        "df_housing_encoded= pd.concat([df_housing, df_encoded], axis=1)\n",
        "\n",
        "# Show Encoded Dataframe\n",
        "df_housing_encoded"
      ],
      "execution_count": 0,
      "outputs": []
    },
    {
      "cell_type": "markdown",
      "metadata": {
        "colab_type": "text",
        "id": "YG5RR-cOXA-l"
      },
      "source": [
        "Set Feature and Target"
      ]
    },
    {
      "cell_type": "code",
      "metadata": {
        "colab_type": "code",
        "id": "keIzSyTPXA-m",
        "colab": {}
      },
      "source": [
        "# Select Features\n",
        "feature = df_housing_encoded.drop(['housing'], axis=1)\n",
        "feature"
      ],
      "execution_count": 0,
      "outputs": []
    },
    {
      "cell_type": "code",
      "metadata": {
        "colab_type": "code",
        "id": "qZ6l6zFBXA-o",
        "colab": {}
      },
      "source": [
        "# Select Target\n",
        "target = df_housing_encoded['housing']\n",
        "target"
      ],
      "execution_count": 0,
      "outputs": []
    },
    {
      "cell_type": "markdown",
      "metadata": {
        "colab_type": "text",
        "id": "EVJsHz9QXA-r"
      },
      "source": [
        "Set Training and Testing Data"
      ]
    },
    {
      "cell_type": "code",
      "metadata": {
        "colab_type": "code",
        "id": "q6zaxLEBXA-r",
        "colab": {}
      },
      "source": [
        "# Set Training and Testing Data (70:30)\n",
        "from sklearn.model_selection import train_test_split, cross_val_score\n",
        "feature_train, feature_test, target_train, target_test = train_test_split(feature , target, shuffle = True, test_size=0.3, random_state=1)\n",
        "\n",
        "# Show the Training and Testing Data\n",
        "print(feature_train.shape)\n",
        "print(feature_test.shape)\n",
        "print(target_train.shape)\n",
        "print(target_test.shape)"
      ],
      "execution_count": 0,
      "outputs": []
    },
    {
      "cell_type": "markdown",
      "metadata": {
        "colab_type": "text",
        "id": "JfjAof0FXA-1"
      },
      "source": [
        "**Modeling Decision Tree Classifier**"
      ]
    },
    {
      "cell_type": "code",
      "metadata": {
        "colab_type": "code",
        "id": "HU5l5ndeXA-1",
        "colab": {}
      },
      "source": [
        "# Import library\n",
        "from sklearn import tree\n",
        "\n",
        "# Modeling Decision Tree\n",
        "dtree = tree.DecisionTreeClassifier(min_impurity_decrease=0.01)\n",
        "dtree.fit(feature_train, target_train)\n",
        "\n",
        "# Predict Test Data \n",
        "target_predicted_dtree = dtree.predict(feature_test)\n",
        "target_predicted_dtree"
      ],
      "execution_count": 0,
      "outputs": []
    },
    {
      "cell_type": "code",
      "metadata": {
        "colab_type": "code",
        "id": "NII5JibcXA-4",
        "colab": {}
      },
      "source": [
        "# Visualize Tree\n",
        "\n",
        "from sklearn.externals.six import StringIO  \n",
        "from IPython.display import Image  \n",
        "from sklearn.tree import export_graphviz\n",
        "import pydotplus\n",
        "\n",
        "dot_data = StringIO()\n",
        "export_graphviz(dtree, out_file=dot_data,  \n",
        "                filled=True, rounded=True,\n",
        "                special_characters=True,\n",
        "                class_names=['rent', 'own'],\n",
        "                feature_names=['age',\t'credit_amount',\t'credit_duration',\t'sex_female',\t'sex_male', 'job_highly_skilled',\t'job_skilled',\n",
        "                               'job_unskilled',\t'saving_account_little',\t'saving_account_moderate',\t'saving_account_rich'])\n",
        "graph = pydotplus.graph_from_dot_data(dot_data.getvalue())  \n",
        "Image(graph.create_png())"
      ],
      "execution_count": 0,
      "outputs": []
    },
    {
      "cell_type": "markdown",
      "metadata": {
        "colab_type": "text",
        "id": "zNqtL3QJXA-6"
      },
      "source": [
        "**Model Evaluation**"
      ]
    },
    {
      "cell_type": "code",
      "metadata": {
        "colab_type": "code",
        "id": "R_E2z0jNXA-7",
        "colab": {}
      },
      "source": [
        "# Import Library\n",
        "import sklearn.metrics as metrics\n",
        "\n",
        "# Confsion Matrix\n",
        "cm_dtree = metrics.confusion_matrix(target_test, target_predicted_dtree)\n",
        "cm_dtree"
      ],
      "execution_count": 0,
      "outputs": []
    },
    {
      "cell_type": "code",
      "metadata": {
        "colab_type": "code",
        "id": "LjIGqHZkXA-9",
        "colab": {}
      },
      "source": [
        "# Accuracy, Precision, Recall\n",
        "acc_dtree = metrics.accuracy_score(target_test, target_predicted_dtree)\n",
        "prec_dtree = metrics.precision_score(target_test, target_predicted_dtree)\n",
        "rec_dtree = metrics.recall_score(target_test, target_predicted_dtree)\n",
        "f1_dtree = metrics.f1_score(target_test, target_predicted_dtree)\n",
        "kappa_dtree = metrics.cohen_kappa_score(target_test, target_predicted_dtree)\n",
        "\n",
        "# Show Accuracy, Precision, Recall\n",
        "print('Accuracy:', acc_dtree )\n",
        "print('Precision:', prec_dtree)\n",
        "print('Recall:', rec_dtree)\n",
        "print('F1 Score:', f1_dtree)\n",
        "print('Cohens Kappa Score:', kappa_dtree)"
      ],
      "execution_count": 0,
      "outputs": []
    },
    {
      "cell_type": "code",
      "metadata": {
        "colab_type": "code",
        "id": "RrI_nopMXA_E",
        "colab": {}
      },
      "source": [
        "# Import Visualization Package\n",
        "plt.rcParams['figure.figsize'] = (10, 10)\n",
        "plt.style.use('ggplot')\n",
        "\n",
        "# Visualize ROC Curve\n",
        "target_predicted_dtree_prob = dtree.predict_proba(feature_test)[::,1]\n",
        "fp_rate_dtree, tp_rate_dtree, _ = metrics.roc_curve(target_test,  target_predicted_dtree_prob)\n",
        "auc_dtree = metrics.roc_auc_score(target_test, target_predicted_dtree_prob)\n",
        "plt.plot(fp_rate_dtree, tp_rate_dtree, label=\"Decision Tree, auc=\"+str(auc_dtree))\n",
        "plt.xlabel('false positive rate') \n",
        "plt.ylabel('true positive rate')\n",
        "plt.legend(loc=4)\n",
        "plt.show()"
      ],
      "execution_count": 0,
      "outputs": []
    },
    {
      "cell_type": "markdown",
      "metadata": {
        "colab_type": "text",
        "id": "RtrhtxiT0TcG"
      },
      "source": [
        "## **Unsupervised Learning**"
      ]
    },
    {
      "cell_type": "markdown",
      "metadata": {
        "id": "BjQnEb-5uC4l",
        "colab_type": "text"
      },
      "source": [
        "Unsupervised learning is a type of machine learning that looks for previously undetected patterns in a data set with no pre-existing labels and with a minimum of human supervision. In contrast to supervised learning that usually makes use of human-labeled data, unsupervised learning, also known as self-organization allows for modeling of probability densities over inputs."
      ]
    },
    {
      "cell_type": "markdown",
      "metadata": {
        "id": "fBT3lLL9UeGl",
        "colab_type": "text"
      },
      "source": [
        "### **1. Clustering Model: HDI**"
      ]
    },
    {
      "cell_type": "markdown",
      "metadata": {
        "id": "0ArTSxmKuXBc",
        "colab_type": "text"
      },
      "source": [
        "Cluster analysis or clustering is the task of grouping a set of objects in such a way that objects in the same group (called a cluster) are more similar (in some sense) to each other than to those in other groups (clusters)."
      ]
    },
    {
      "cell_type": "markdown",
      "metadata": {
        "id": "J5knTfWYeT3x",
        "colab_type": "text"
      },
      "source": [
        "***K-Means Clustering***"
      ]
    },
    {
      "cell_type": "markdown",
      "metadata": {
        "id": "c-LzlK8QvPWt",
        "colab_type": "text"
      },
      "source": [
        "Kmeans algorithm is an iterative algorithm that tries to partition the dataset into Kpre-defined distinct non-overlapping subgroups (clusters) where each data point belongs to only one group. It tries to make the inter-cluster data points as similar as possible while also keeping the clusters as different (far) as possible. It assigns data points to a cluster such that the sum of the squared distance between the data points and the cluster’s centroid (arithmetic mean of all the data points that belong to that cluster) is at the minimum. The less variation we have within clusters, the more homogeneous (similar) the data points are within the same cluster."
      ]
    },
    {
      "cell_type": "markdown",
      "metadata": {
        "colab_type": "text",
        "id": "xOKLZILWP_lC"
      },
      "source": [
        "**Import Data**"
      ]
    },
    {
      "cell_type": "code",
      "metadata": {
        "colab_type": "code",
        "id": "sk-AHvbGP_lD",
        "colab": {}
      },
      "source": [
        "# Import Dataset\n",
        "df_hdi = pd.read_csv('https://raw.githubusercontent.com/dianrdn/data/master/hdi.csv', sep=';')\n",
        "df_hdi"
      ],
      "execution_count": 0,
      "outputs": []
    },
    {
      "cell_type": "code",
      "metadata": {
        "colab_type": "code",
        "id": "aAs3kf2hP_lG",
        "colab": {}
      },
      "source": [
        "# Prints the Dataset Information\n",
        "df_hdi.info()"
      ],
      "execution_count": 0,
      "outputs": []
    },
    {
      "cell_type": "code",
      "metadata": {
        "colab_type": "code",
        "id": "PGFHmTvTP_lK",
        "colab": {}
      },
      "source": [
        "# Prints Descriptive Statistics\n",
        "df_hdi.describe().transpose()"
      ],
      "execution_count": 0,
      "outputs": []
    },
    {
      "cell_type": "markdown",
      "metadata": {
        "colab_type": "text",
        "id": "cRaWmk38P_lO"
      },
      "source": [
        "**Data Preprocessing**"
      ]
    },
    {
      "cell_type": "markdown",
      "metadata": {
        "id": "oc0sRvtQ418Y",
        "colab_type": "text"
      },
      "source": [
        "First, we standardize the data to equalize the range and/or data variability. Feature standardization makes the values of each feature in the data have zero-mean (when subtracting the mean in the numerator) and unit-variance. "
      ]
    },
    {
      "cell_type": "code",
      "metadata": {
        "colab_type": "code",
        "id": "DJLkVFMSP_lR",
        "colab": {}
      },
      "source": [
        "# Importing Standardscalar Module \n",
        "from sklearn.preprocessing import StandardScaler \n",
        "\n",
        "# Set Name for StandardScaler as scaler\n",
        "scaler = StandardScaler() \n",
        "\n",
        "# Fit Standardization\n",
        "column_names = df_hdi.columns.tolist()\n",
        "df_hdi[column_names] = scaler.fit_transform(df_hdi[column_names])\n",
        "df_hdi.sort_index(inplace=True)\n",
        "df_hdi"
      ],
      "execution_count": 0,
      "outputs": []
    },
    {
      "cell_type": "code",
      "metadata": {
        "colab_type": "code",
        "id": "jKNSDZ0tP_lX",
        "colab": {}
      },
      "source": [
        "# Styling Plot\n",
        "sns.set() \n",
        "plt.rcParams['figure.figsize'] = (16, 9)\n",
        "\n",
        "# Visualizing the Data\n",
        "sns.scatterplot(x='hdi', y='revenue_in_trillion', data=df_hdi)\n",
        "plt.title('HDI vs Revenue')\n",
        "plt.xlabel('HDI')\n",
        "plt.ylabel('Revenue')"
      ],
      "execution_count": 0,
      "outputs": []
    },
    {
      "cell_type": "markdown",
      "metadata": {
        "id": "_lptWQ-EpWUk",
        "colab_type": "text"
      },
      "source": [
        "**Modeling**"
      ]
    },
    {
      "cell_type": "markdown",
      "metadata": {
        "id": "Unebu5ajef8R",
        "colab_type": "text"
      },
      "source": [
        "**Search for the Optimum Number of Clusters (k)**"
      ]
    },
    {
      "cell_type": "code",
      "metadata": {
        "id": "8pwgQESo_n9y",
        "colab_type": "code",
        "colab": {}
      },
      "source": [
        "# Transform Data Frame to Numpy Array\n",
        "hdi = df_hdi.to_numpy()\n",
        "hdi"
      ],
      "execution_count": 0,
      "outputs": []
    },
    {
      "cell_type": "code",
      "metadata": {
        "id": "Fl---X3eeKx9",
        "colab_type": "code",
        "colab": {}
      },
      "source": [
        "# Elbow Method\n",
        "from sklearn.cluster import KMeans\n",
        "wcss = []\n",
        "for i in range(1,11):\n",
        "    kmeans = KMeans(n_clusters=i, init='k-means++', max_iter=300, n_init=10, random_state=0)\n",
        "    kmeans.fit(hdi)\n",
        "    wcss.append(kmeans.inertia_)\n",
        "  \n",
        "# Visualize \n",
        "plt.plot(range(1,11),wcss)\n",
        "plt.title('Elbow Method')\n",
        "plt.xlabel('Number of clusters')\n",
        "plt.ylabel('wcss')\n",
        "plt.show()"
      ],
      "execution_count": 0,
      "outputs": []
    },
    {
      "cell_type": "code",
      "metadata": {
        "id": "490H6p_AerBM",
        "colab_type": "code",
        "colab": {}
      },
      "source": [
        "# Silhoutte Method\n",
        "from sklearn.metrics import silhouette_score\n",
        "from sklearn.cluster import KMeans\n",
        "\n",
        "for n_cluster in range(2, 11):\n",
        "    kmeans = KMeans(n_clusters=n_cluster).fit(hdi)\n",
        "    label = kmeans.labels_\n",
        "    sil_coeff = silhouette_score(hdi, label, metric='euclidean')\n",
        "    print('For n_clusters={}, The Silhouette Coefficient is {}'.format(n_cluster, sil_coeff))"
      ],
      "execution_count": 0,
      "outputs": []
    },
    {
      "cell_type": "markdown",
      "metadata": {
        "id": "2CHgU53qpKmd",
        "colab_type": "text"
      },
      "source": [
        "**Modeling K-Means Clustering**"
      ]
    },
    {
      "cell_type": "code",
      "metadata": {
        "id": "t5c5fGHieyID",
        "colab_type": "code",
        "colab": {}
      },
      "source": [
        "# Apply the K-Means Model to the Data\n",
        "kmeans = KMeans(n_clusters=3, init='k-means++', max_iter=300, n_init=10, random_state=0)\n",
        "cluster = kmeans.fit_predict(hdi)\n",
        "\n",
        "# Visualising Clusters for k=3\n",
        "sns.scatterplot(x='hdi', y='revenue_in_trillion', data=df_hdi)\n",
        "plt.scatter(hdi[cluster == 0, 0], hdi[cluster == 0, 1], s = 50, label = 'Cluster 1')\n",
        "plt.scatter(hdi[cluster == 1, 0], hdi[cluster == 1, 1], s = 50, label = 'Cluster 2')\n",
        "plt.scatter(hdi[cluster == 2, 0], hdi[cluster == 2, 1], s = 50, label = 'Cluster 3')\n",
        "plt.scatter(kmeans.cluster_centers_[:,0], kmeans.cluster_centers_[:,1],s=200,marker='s', alpha=0.7, label='Centroids')\n",
        "plt.title('HDI vs Revenue')\n",
        "plt.xlabel('HDI')\n",
        "plt.ylabel('Revenue')\n",
        "plt.legend()\n",
        "plt.show()"
      ],
      "execution_count": 0,
      "outputs": []
    },
    {
      "cell_type": "markdown",
      "metadata": {
        "colab_type": "text",
        "id": "MEbPsvEPu_AG"
      },
      "source": [
        "### **2. Clustering Model: Credit Segments**"
      ]
    },
    {
      "cell_type": "markdown",
      "metadata": {
        "colab_type": "text",
        "id": "pLSwbtsGu_AJ"
      },
      "source": [
        "Cluster analysis or clustering is the task of grouping a set of objects in such a way that objects in the same group (called a cluster) are more similar (in some sense) to each other than to those in other groups (clusters)."
      ]
    },
    {
      "cell_type": "markdown",
      "metadata": {
        "colab_type": "text",
        "id": "tffpSR1tu_AM"
      },
      "source": [
        "***K-Means Clustering***"
      ]
    },
    {
      "cell_type": "markdown",
      "metadata": {
        "colab_type": "text",
        "id": "LIrklPbTu_AO"
      },
      "source": [
        "Kmeans algorithm is an iterative algorithm that tries to partition the dataset into Kpre-defined distinct non-overlapping subgroups (clusters) where each data point belongs to only one group. It tries to make the inter-cluster data points as similar as possible while also keeping the clusters as different (far) as possible. It assigns data points to a cluster such that the sum of the squared distance between the data points and the cluster’s centroid (arithmetic mean of all the data points that belong to that cluster) is at the minimum. The less variation we have within clusters, the more homogeneous (similar) the data points are within the same cluster."
      ]
    },
    {
      "cell_type": "markdown",
      "metadata": {
        "colab_type": "text",
        "id": "5inrHLESu_AQ"
      },
      "source": [
        "**Import Data**"
      ]
    },
    {
      "cell_type": "code",
      "metadata": {
        "colab_type": "code",
        "id": "939jMTBzu_AS",
        "colab": {}
      },
      "source": [
        "# Import Dataset\n",
        "df_segmentation = pd.read_csv('https://raw.githubusercontent.com/dianrdn/data/master/creditsegments.csv', sep=';')\n",
        "df_segmentation"
      ],
      "execution_count": 0,
      "outputs": []
    },
    {
      "cell_type": "code",
      "metadata": {
        "colab_type": "code",
        "id": "UD5N2yQxu_Ac",
        "colab": {}
      },
      "source": [
        "# Prints the Dataset Information\n",
        "df_segmentation.info()"
      ],
      "execution_count": 0,
      "outputs": []
    },
    {
      "cell_type": "code",
      "metadata": {
        "colab_type": "code",
        "id": "0iY0lnyOu_Aj",
        "colab": {}
      },
      "source": [
        "# Prints Descriptive Statistics\n",
        "df_segmentation.describe().transpose()"
      ],
      "execution_count": 0,
      "outputs": []
    },
    {
      "cell_type": "markdown",
      "metadata": {
        "colab_type": "text",
        "id": "tAftIeVNu_Aq"
      },
      "source": [
        "**Data Preprocessing**"
      ]
    },
    {
      "cell_type": "markdown",
      "metadata": {
        "colab_type": "text",
        "id": "N13_Y5J4u_Ar"
      },
      "source": [
        "First, we standardize the data to equalize the range and/or data variability. Feature standardization makes the values of each feature in the data have zero-mean (when subtracting the mean in the numerator) and unit-variance. "
      ]
    },
    {
      "cell_type": "code",
      "metadata": {
        "colab_type": "code",
        "id": "b5G4ZxJvu_At",
        "colab": {}
      },
      "source": [
        "# Importing Standardscalar Module \n",
        "from sklearn.preprocessing import StandardScaler \n",
        "\n",
        "# Set Name for StandardScaler as scaler\n",
        "scaler = StandardScaler() \n",
        "\n",
        "# Fit Standardization\n",
        "column_names = df_segmentation.columns.tolist()\n",
        "df_segmentation[column_names] = scaler.fit_transform(df_segmentation[column_names])\n",
        "df_segmentation.sort_index(inplace=True)\n",
        "df_segmentation"
      ],
      "execution_count": 0,
      "outputs": []
    },
    {
      "cell_type": "code",
      "metadata": {
        "colab_type": "code",
        "id": "ouUrYYiJu_Az",
        "colab": {}
      },
      "source": [
        "# Styling Plot\n",
        "sns.set() \n",
        "plt.rcParams['figure.figsize'] = (16, 9)\n",
        "\n",
        "# Visualizing the Data\n",
        "sns.scatterplot(x='age', y='credit_amount', data=df_segmentation)\n",
        "plt.title('Age vs Credit Amount')\n",
        "plt.xlabel('Age')\n",
        "plt.ylabel('Credit Amount')"
      ],
      "execution_count": 0,
      "outputs": []
    },
    {
      "cell_type": "markdown",
      "metadata": {
        "colab_type": "text",
        "id": "vG6t2_Iku_A7"
      },
      "source": [
        "**Modeling**"
      ]
    },
    {
      "cell_type": "markdown",
      "metadata": {
        "colab_type": "text",
        "id": "1BwYJ4zxu_A8"
      },
      "source": [
        "**Search for the Optimum Number of Clusters (k)**"
      ]
    },
    {
      "cell_type": "code",
      "metadata": {
        "colab_type": "code",
        "id": "1E-auQa_u_A-",
        "colab": {}
      },
      "source": [
        "# Transform Data Frame to Numpy Array\n",
        "segment = df_segmentation.to_numpy()\n",
        "segment"
      ],
      "execution_count": 0,
      "outputs": []
    },
    {
      "cell_type": "code",
      "metadata": {
        "colab_type": "code",
        "id": "S9JYYYQpu_BD",
        "colab": {}
      },
      "source": [
        "# Elbow Method\n",
        "from sklearn.cluster import KMeans\n",
        "wcss = []\n",
        "for i in range(1,11):\n",
        "    kmeans = KMeans(n_clusters=i, init='k-means++', max_iter=300, n_init=10, random_state=0)\n",
        "    kmeans.fit(segment)\n",
        "    wcss.append(kmeans.inertia_)\n",
        "  \n",
        "# Visualize \n",
        "plt.plot(range(1,11),wcss)\n",
        "plt.title('Elbow Method')\n",
        "plt.xlabel('Number of clusters')\n",
        "plt.ylabel('wcss')\n",
        "plt.show()"
      ],
      "execution_count": 0,
      "outputs": []
    },
    {
      "cell_type": "code",
      "metadata": {
        "colab_type": "code",
        "id": "PxKDbhOYu_BJ",
        "colab": {}
      },
      "source": [
        "# Silhoutte Method\n",
        "from sklearn.metrics import silhouette_score\n",
        "from sklearn.cluster import KMeans\n",
        "\n",
        "for n_cluster in range(2, 11):\n",
        "    kmeans = KMeans(n_clusters=n_cluster).fit(segment)\n",
        "    label = kmeans.labels_\n",
        "    sil_coeff = silhouette_score(segment, label, metric='euclidean')\n",
        "    print('For n_clusters={}, The Silhouette Coefficient is {}'.format(n_cluster, sil_coeff))"
      ],
      "execution_count": 0,
      "outputs": []
    },
    {
      "cell_type": "markdown",
      "metadata": {
        "colab_type": "text",
        "id": "zJoHud1Au_BO"
      },
      "source": [
        "**Modeling K-Means Clustering**"
      ]
    },
    {
      "cell_type": "code",
      "metadata": {
        "colab_type": "code",
        "id": "l0F1rXktu_BP",
        "colab": {}
      },
      "source": [
        "# Apply the K-Means Model to the Data\n",
        "kmeans = KMeans(n_clusters=3, init='k-means++', max_iter=300, n_init=10, random_state=0)\n",
        "cluster = kmeans.fit_predict(segment)\n",
        "\n",
        "# Visualising Clusters for k=3\n",
        "sns.scatterplot(x='age', y='credit_amount', data=df_segmentation)\n",
        "plt.scatter(segment[cluster == 0, 0], segment[cluster == 0, 1], s = 50, label = 'Cluster 1')\n",
        "plt.scatter(segment[cluster == 1, 0], segment[cluster == 1, 1], s = 50, label = 'Cluster 2')\n",
        "plt.scatter(segment[cluster == 2, 0], segment[cluster == 2, 1], s = 50, label = 'Cluster 3')\n",
        "plt.scatter(kmeans.cluster_centers_[:,0], kmeans.cluster_centers_[:,1],s=200,marker='s', alpha=0.7, label='Centroids')\n",
        "plt.title('Age vs Credit Amount')\n",
        "plt.xlabel('Age')\n",
        "plt.ylabel('Credit Amount')\n",
        "plt.legend()\n",
        "plt.show()"
      ],
      "execution_count": 0,
      "outputs": []
    }
  ]
}
